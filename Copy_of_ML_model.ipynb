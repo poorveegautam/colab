{
  "cells": [
    {
      "cell_type": "markdown",
      "metadata": {
        "id": "view-in-github",
        "colab_type": "text"
      },
      "source": [
        "<a href=\"https://colab.research.google.com/github/poorveegautam/colab/blob/main/Copy_of_ML_model.ipynb\" target=\"_parent\"><img src=\"https://colab.research.google.com/assets/colab-badge.svg\" alt=\"Open In Colab\"/></a>"
      ]
    },
    {
      "cell_type": "code",
      "execution_count": null,
      "metadata": {
        "id": "3SaDMYnp_dJS"
      },
      "outputs": [],
      "source": [
        "import pandas as pd\n",
        "import numpy as np\n",
        "from sklearn.preprocessing import LabelEncoder\n",
        "from sklearn.model_selection import train_test_split\n",
        "import tensorflow as tf\n",
        "from tensorflow import keras"
      ]
    },
    {
      "cell_type": "code",
      "execution_count": null,
      "metadata": {
        "colab": {
          "base_uri": "https://localhost:8080/",
          "height": 206
        },
        "id": "tZZ3tJcTjgjR",
        "outputId": "c78e7d49-1368-4c8a-8d80-d3fcc1b35661"
      },
      "outputs": [
        {
          "output_type": "execute_result",
          "data": {
            "text/plain": [
              "   Gender   BMI  Age  Calorie intake      Exercise  Set\n",
              "0  Female  22.0   32              99  Barbell Rows    3\n",
              "1  Female  26.0   30              91  Barbell Rows    3\n",
              "2    Male  23.5   26             147   Bench Press    3\n",
              "3    Male  23.5   22             145   Bench Press    3\n",
              "4    Male  21.0   29             146   Bench Press    3"
            ],
            "text/html": [
              "\n",
              "  <div id=\"df-d0a66e92-e9ad-45ae-b50d-1c3c7fbe261e\">\n",
              "    <div class=\"colab-df-container\">\n",
              "      <div>\n",
              "<style scoped>\n",
              "    .dataframe tbody tr th:only-of-type {\n",
              "        vertical-align: middle;\n",
              "    }\n",
              "\n",
              "    .dataframe tbody tr th {\n",
              "        vertical-align: top;\n",
              "    }\n",
              "\n",
              "    .dataframe thead th {\n",
              "        text-align: right;\n",
              "    }\n",
              "</style>\n",
              "<table border=\"1\" class=\"dataframe\">\n",
              "  <thead>\n",
              "    <tr style=\"text-align: right;\">\n",
              "      <th></th>\n",
              "      <th>Gender</th>\n",
              "      <th>BMI</th>\n",
              "      <th>Age</th>\n",
              "      <th>Calorie intake</th>\n",
              "      <th>Exercise</th>\n",
              "      <th>Set</th>\n",
              "    </tr>\n",
              "  </thead>\n",
              "  <tbody>\n",
              "    <tr>\n",
              "      <th>0</th>\n",
              "      <td>Female</td>\n",
              "      <td>22.0</td>\n",
              "      <td>32</td>\n",
              "      <td>99</td>\n",
              "      <td>Barbell Rows</td>\n",
              "      <td>3</td>\n",
              "    </tr>\n",
              "    <tr>\n",
              "      <th>1</th>\n",
              "      <td>Female</td>\n",
              "      <td>26.0</td>\n",
              "      <td>30</td>\n",
              "      <td>91</td>\n",
              "      <td>Barbell Rows</td>\n",
              "      <td>3</td>\n",
              "    </tr>\n",
              "    <tr>\n",
              "      <th>2</th>\n",
              "      <td>Male</td>\n",
              "      <td>23.5</td>\n",
              "      <td>26</td>\n",
              "      <td>147</td>\n",
              "      <td>Bench Press</td>\n",
              "      <td>3</td>\n",
              "    </tr>\n",
              "    <tr>\n",
              "      <th>3</th>\n",
              "      <td>Male</td>\n",
              "      <td>23.5</td>\n",
              "      <td>22</td>\n",
              "      <td>145</td>\n",
              "      <td>Bench Press</td>\n",
              "      <td>3</td>\n",
              "    </tr>\n",
              "    <tr>\n",
              "      <th>4</th>\n",
              "      <td>Male</td>\n",
              "      <td>21.0</td>\n",
              "      <td>29</td>\n",
              "      <td>146</td>\n",
              "      <td>Bench Press</td>\n",
              "      <td>3</td>\n",
              "    </tr>\n",
              "  </tbody>\n",
              "</table>\n",
              "</div>\n",
              "      <button class=\"colab-df-convert\" onclick=\"convertToInteractive('df-d0a66e92-e9ad-45ae-b50d-1c3c7fbe261e')\"\n",
              "              title=\"Convert this dataframe to an interactive table.\"\n",
              "              style=\"display:none;\">\n",
              "        \n",
              "  <svg xmlns=\"http://www.w3.org/2000/svg\" height=\"24px\"viewBox=\"0 0 24 24\"\n",
              "       width=\"24px\">\n",
              "    <path d=\"M0 0h24v24H0V0z\" fill=\"none\"/>\n",
              "    <path d=\"M18.56 5.44l.94 2.06.94-2.06 2.06-.94-2.06-.94-.94-2.06-.94 2.06-2.06.94zm-11 1L8.5 8.5l.94-2.06 2.06-.94-2.06-.94L8.5 2.5l-.94 2.06-2.06.94zm10 10l.94 2.06.94-2.06 2.06-.94-2.06-.94-.94-2.06-.94 2.06-2.06.94z\"/><path d=\"M17.41 7.96l-1.37-1.37c-.4-.4-.92-.59-1.43-.59-.52 0-1.04.2-1.43.59L10.3 9.45l-7.72 7.72c-.78.78-.78 2.05 0 2.83L4 21.41c.39.39.9.59 1.41.59.51 0 1.02-.2 1.41-.59l7.78-7.78 2.81-2.81c.8-.78.8-2.07 0-2.86zM5.41 20L4 18.59l7.72-7.72 1.47 1.35L5.41 20z\"/>\n",
              "  </svg>\n",
              "      </button>\n",
              "      \n",
              "  <style>\n",
              "    .colab-df-container {\n",
              "      display:flex;\n",
              "      flex-wrap:wrap;\n",
              "      gap: 12px;\n",
              "    }\n",
              "\n",
              "    .colab-df-convert {\n",
              "      background-color: #E8F0FE;\n",
              "      border: none;\n",
              "      border-radius: 50%;\n",
              "      cursor: pointer;\n",
              "      display: none;\n",
              "      fill: #1967D2;\n",
              "      height: 32px;\n",
              "      padding: 0 0 0 0;\n",
              "      width: 32px;\n",
              "    }\n",
              "\n",
              "    .colab-df-convert:hover {\n",
              "      background-color: #E2EBFA;\n",
              "      box-shadow: 0px 1px 2px rgba(60, 64, 67, 0.3), 0px 1px 3px 1px rgba(60, 64, 67, 0.15);\n",
              "      fill: #174EA6;\n",
              "    }\n",
              "\n",
              "    [theme=dark] .colab-df-convert {\n",
              "      background-color: #3B4455;\n",
              "      fill: #D2E3FC;\n",
              "    }\n",
              "\n",
              "    [theme=dark] .colab-df-convert:hover {\n",
              "      background-color: #434B5C;\n",
              "      box-shadow: 0px 1px 3px 1px rgba(0, 0, 0, 0.15);\n",
              "      filter: drop-shadow(0px 1px 2px rgba(0, 0, 0, 0.3));\n",
              "      fill: #FFFFFF;\n",
              "    }\n",
              "  </style>\n",
              "\n",
              "      <script>\n",
              "        const buttonEl =\n",
              "          document.querySelector('#df-d0a66e92-e9ad-45ae-b50d-1c3c7fbe261e button.colab-df-convert');\n",
              "        buttonEl.style.display =\n",
              "          google.colab.kernel.accessAllowed ? 'block' : 'none';\n",
              "\n",
              "        async function convertToInteractive(key) {\n",
              "          const element = document.querySelector('#df-d0a66e92-e9ad-45ae-b50d-1c3c7fbe261e');\n",
              "          const dataTable =\n",
              "            await google.colab.kernel.invokeFunction('convertToInteractive',\n",
              "                                                     [key], {});\n",
              "          if (!dataTable) return;\n",
              "\n",
              "          const docLinkHtml = 'Like what you see? Visit the ' +\n",
              "            '<a target=\"_blank\" href=https://colab.research.google.com/notebooks/data_table.ipynb>data table notebook</a>'\n",
              "            + ' to learn more about interactive tables.';\n",
              "          element.innerHTML = '';\n",
              "          dataTable['output_type'] = 'display_data';\n",
              "          await google.colab.output.renderOutput(dataTable, element);\n",
              "          const docLink = document.createElement('div');\n",
              "          docLink.innerHTML = docLinkHtml;\n",
              "          element.appendChild(docLink);\n",
              "        }\n",
              "      </script>\n",
              "    </div>\n",
              "  </div>\n",
              "  "
            ]
          },
          "metadata": {},
          "execution_count": 52
        }
      ],
      "source": [
        "df = pd.read_csv('/content/workout_dataset - Sheet2.csv')\n",
        "df.head()"
      ]
    },
    {
      "cell_type": "code",
      "execution_count": null,
      "metadata": {
        "id": "MQbLtt7u_oOV"
      },
      "outputs": [],
      "source": [
        "# Load and preprocess the dataset\n",
        "\n",
        "X = df[['Gender','BMI', 'Calorie intake','Age']]\n",
        "y = df[['Exercise', 'Set']]\n"
      ]
    },
    {
      "cell_type": "code",
      "execution_count": null,
      "metadata": {
        "id": "agXH8R8qG1SH"
      },
      "outputs": [],
      "source": []
    },
    {
      "cell_type": "code",
      "execution_count": null,
      "metadata": {
        "colab": {
          "base_uri": "https://localhost:8080/"
        },
        "id": "z5S1DHyF_5oM",
        "outputId": "17bfe2d3-0504-4c5d-f32e-281fdce4df5e"
      },
      "outputs": [
        {
          "output_type": "stream",
          "name": "stderr",
          "text": [
            "<ipython-input-54-9078a6250cfd>:2: SettingWithCopyWarning: \n",
            "A value is trying to be set on a copy of a slice from a DataFrame.\n",
            "Try using .loc[row_indexer,col_indexer] = value instead\n",
            "\n",
            "See the caveats in the documentation: https://pandas.pydata.org/pandas-docs/stable/user_guide/indexing.html#returning-a-view-versus-a-copy\n",
            "  y['Exercise'] = les.fit_transform(y['Exercise'])\n"
          ]
        }
      ],
      "source": [
        "les = LabelEncoder()\n",
        "y['Exercise'] = les.fit_transform(y['Exercise'])"
      ]
    },
    {
      "cell_type": "code",
      "source": [
        "les.classes_"
      ],
      "metadata": {
        "colab": {
          "base_uri": "https://localhost:8080/"
        },
        "id": "4PEpiaetOpMX",
        "outputId": "6aefa6f6-2e48-4285-e2f1-51523f06fa7c"
      },
      "execution_count": null,
      "outputs": [
        {
          "output_type": "execute_result",
          "data": {
            "text/plain": [
              "array(['Barbell Rows', 'Bench Press', 'Bicep Curls', 'Bicycle Crunches',\n",
              "       'Cable Tricep Pushdown', 'Calf Raises', 'Chin-ups',\n",
              "       'Close Grip Bench Press', 'Deadlift', 'Dumbbell Rows',\n",
              "       'Dumbbell Shoulder Press', 'Dumbbell Tricep Extension',\n",
              "       'Incline Bench Press', 'Incline Dumbbell Bench Press',\n",
              "       'Lat Pulldown', 'Leg Press', 'Lunges', 'Overhead Press', 'Plank',\n",
              "       'Pull-ups', 'Squat', 'Sun Salutation', 'T-Bar Rows',\n",
              "       'Treadmill Running', 'Tricep Dips', 'Tricep Kickbacks',\n",
              "       'Tricep Rope Pushdowns', 'Warrior II'], dtype=object)"
            ]
          },
          "metadata": {},
          "execution_count": 55
        }
      ]
    },
    {
      "cell_type": "code",
      "source": [
        "y"
      ],
      "metadata": {
        "colab": {
          "base_uri": "https://localhost:8080/",
          "height": 423
        },
        "id": "86OHGaLmey9_",
        "outputId": "bf527e68-e153-4349-c11e-63ebfe6259d8"
      },
      "execution_count": null,
      "outputs": [
        {
          "output_type": "execute_result",
          "data": {
            "text/plain": [
              "    Exercise  Set\n",
              "0          0    3\n",
              "1          0    3\n",
              "2          1    3\n",
              "3          1    3\n",
              "4          1    3\n",
              "..       ...  ...\n",
              "61        25    2\n",
              "62        26    2\n",
              "63        27    1\n",
              "64        27    1\n",
              "65        27    1\n",
              "\n",
              "[66 rows x 2 columns]"
            ],
            "text/html": [
              "\n",
              "  <div id=\"df-b93904e8-388e-42f7-8f41-8be5c9ade2ef\">\n",
              "    <div class=\"colab-df-container\">\n",
              "      <div>\n",
              "<style scoped>\n",
              "    .dataframe tbody tr th:only-of-type {\n",
              "        vertical-align: middle;\n",
              "    }\n",
              "\n",
              "    .dataframe tbody tr th {\n",
              "        vertical-align: top;\n",
              "    }\n",
              "\n",
              "    .dataframe thead th {\n",
              "        text-align: right;\n",
              "    }\n",
              "</style>\n",
              "<table border=\"1\" class=\"dataframe\">\n",
              "  <thead>\n",
              "    <tr style=\"text-align: right;\">\n",
              "      <th></th>\n",
              "      <th>Exercise</th>\n",
              "      <th>Set</th>\n",
              "    </tr>\n",
              "  </thead>\n",
              "  <tbody>\n",
              "    <tr>\n",
              "      <th>0</th>\n",
              "      <td>0</td>\n",
              "      <td>3</td>\n",
              "    </tr>\n",
              "    <tr>\n",
              "      <th>1</th>\n",
              "      <td>0</td>\n",
              "      <td>3</td>\n",
              "    </tr>\n",
              "    <tr>\n",
              "      <th>2</th>\n",
              "      <td>1</td>\n",
              "      <td>3</td>\n",
              "    </tr>\n",
              "    <tr>\n",
              "      <th>3</th>\n",
              "      <td>1</td>\n",
              "      <td>3</td>\n",
              "    </tr>\n",
              "    <tr>\n",
              "      <th>4</th>\n",
              "      <td>1</td>\n",
              "      <td>3</td>\n",
              "    </tr>\n",
              "    <tr>\n",
              "      <th>...</th>\n",
              "      <td>...</td>\n",
              "      <td>...</td>\n",
              "    </tr>\n",
              "    <tr>\n",
              "      <th>61</th>\n",
              "      <td>25</td>\n",
              "      <td>2</td>\n",
              "    </tr>\n",
              "    <tr>\n",
              "      <th>62</th>\n",
              "      <td>26</td>\n",
              "      <td>2</td>\n",
              "    </tr>\n",
              "    <tr>\n",
              "      <th>63</th>\n",
              "      <td>27</td>\n",
              "      <td>1</td>\n",
              "    </tr>\n",
              "    <tr>\n",
              "      <th>64</th>\n",
              "      <td>27</td>\n",
              "      <td>1</td>\n",
              "    </tr>\n",
              "    <tr>\n",
              "      <th>65</th>\n",
              "      <td>27</td>\n",
              "      <td>1</td>\n",
              "    </tr>\n",
              "  </tbody>\n",
              "</table>\n",
              "<p>66 rows × 2 columns</p>\n",
              "</div>\n",
              "      <button class=\"colab-df-convert\" onclick=\"convertToInteractive('df-b93904e8-388e-42f7-8f41-8be5c9ade2ef')\"\n",
              "              title=\"Convert this dataframe to an interactive table.\"\n",
              "              style=\"display:none;\">\n",
              "        \n",
              "  <svg xmlns=\"http://www.w3.org/2000/svg\" height=\"24px\"viewBox=\"0 0 24 24\"\n",
              "       width=\"24px\">\n",
              "    <path d=\"M0 0h24v24H0V0z\" fill=\"none\"/>\n",
              "    <path d=\"M18.56 5.44l.94 2.06.94-2.06 2.06-.94-2.06-.94-.94-2.06-.94 2.06-2.06.94zm-11 1L8.5 8.5l.94-2.06 2.06-.94-2.06-.94L8.5 2.5l-.94 2.06-2.06.94zm10 10l.94 2.06.94-2.06 2.06-.94-2.06-.94-.94-2.06-.94 2.06-2.06.94z\"/><path d=\"M17.41 7.96l-1.37-1.37c-.4-.4-.92-.59-1.43-.59-.52 0-1.04.2-1.43.59L10.3 9.45l-7.72 7.72c-.78.78-.78 2.05 0 2.83L4 21.41c.39.39.9.59 1.41.59.51 0 1.02-.2 1.41-.59l7.78-7.78 2.81-2.81c.8-.78.8-2.07 0-2.86zM5.41 20L4 18.59l7.72-7.72 1.47 1.35L5.41 20z\"/>\n",
              "  </svg>\n",
              "      </button>\n",
              "      \n",
              "  <style>\n",
              "    .colab-df-container {\n",
              "      display:flex;\n",
              "      flex-wrap:wrap;\n",
              "      gap: 12px;\n",
              "    }\n",
              "\n",
              "    .colab-df-convert {\n",
              "      background-color: #E8F0FE;\n",
              "      border: none;\n",
              "      border-radius: 50%;\n",
              "      cursor: pointer;\n",
              "      display: none;\n",
              "      fill: #1967D2;\n",
              "      height: 32px;\n",
              "      padding: 0 0 0 0;\n",
              "      width: 32px;\n",
              "    }\n",
              "\n",
              "    .colab-df-convert:hover {\n",
              "      background-color: #E2EBFA;\n",
              "      box-shadow: 0px 1px 2px rgba(60, 64, 67, 0.3), 0px 1px 3px 1px rgba(60, 64, 67, 0.15);\n",
              "      fill: #174EA6;\n",
              "    }\n",
              "\n",
              "    [theme=dark] .colab-df-convert {\n",
              "      background-color: #3B4455;\n",
              "      fill: #D2E3FC;\n",
              "    }\n",
              "\n",
              "    [theme=dark] .colab-df-convert:hover {\n",
              "      background-color: #434B5C;\n",
              "      box-shadow: 0px 1px 3px 1px rgba(0, 0, 0, 0.15);\n",
              "      filter: drop-shadow(0px 1px 2px rgba(0, 0, 0, 0.3));\n",
              "      fill: #FFFFFF;\n",
              "    }\n",
              "  </style>\n",
              "\n",
              "      <script>\n",
              "        const buttonEl =\n",
              "          document.querySelector('#df-b93904e8-388e-42f7-8f41-8be5c9ade2ef button.colab-df-convert');\n",
              "        buttonEl.style.display =\n",
              "          google.colab.kernel.accessAllowed ? 'block' : 'none';\n",
              "\n",
              "        async function convertToInteractive(key) {\n",
              "          const element = document.querySelector('#df-b93904e8-388e-42f7-8f41-8be5c9ade2ef');\n",
              "          const dataTable =\n",
              "            await google.colab.kernel.invokeFunction('convertToInteractive',\n",
              "                                                     [key], {});\n",
              "          if (!dataTable) return;\n",
              "\n",
              "          const docLinkHtml = 'Like what you see? Visit the ' +\n",
              "            '<a target=\"_blank\" href=https://colab.research.google.com/notebooks/data_table.ipynb>data table notebook</a>'\n",
              "            + ' to learn more about interactive tables.';\n",
              "          element.innerHTML = '';\n",
              "          dataTable['output_type'] = 'display_data';\n",
              "          await google.colab.output.renderOutput(dataTable, element);\n",
              "          const docLink = document.createElement('div');\n",
              "          docLink.innerHTML = docLinkHtml;\n",
              "          element.appendChild(docLink);\n",
              "        }\n",
              "      </script>\n",
              "    </div>\n",
              "  </div>\n",
              "  "
            ]
          },
          "metadata": {},
          "execution_count": 58
        }
      ]
    },
    {
      "cell_type": "code",
      "execution_count": null,
      "metadata": {
        "colab": {
          "base_uri": "https://localhost:8080/",
          "height": 547
        },
        "id": "NLqKMhYwAxO-",
        "outputId": "83d00621-e6af-4e88-a651-e7d013ef8dea"
      },
      "outputs": [
        {
          "output_type": "stream",
          "name": "stderr",
          "text": [
            "<ipython-input-59-8dcb0150d395>:2: SettingWithCopyWarning: \n",
            "A value is trying to be set on a copy of a slice from a DataFrame.\n",
            "Try using .loc[row_indexer,col_indexer] = value instead\n",
            "\n",
            "See the caveats in the documentation: https://pandas.pydata.org/pandas-docs/stable/user_guide/indexing.html#returning-a-view-versus-a-copy\n",
            "  X['Gender'] = le.fit_transform(X['Gender'])\n"
          ]
        },
        {
          "output_type": "execute_result",
          "data": {
            "text/plain": [
              "    Gender   BMI  Calorie intake  Age\n",
              "0        0  22.0              99   32\n",
              "1        0  26.0              91   30\n",
              "2        1  23.5             147   26\n",
              "3        1  23.5             145   22\n",
              "4        1  21.0             146   29\n",
              "..     ...   ...             ...  ...\n",
              "61       0  22.1              90   31\n",
              "62       0  20.8              90   32\n",
              "63       0  22.0             187   26\n",
              "64       0  21.0             187   27\n",
              "65       0  20.0             187   29\n",
              "\n",
              "[66 rows x 4 columns]"
            ],
            "text/html": [
              "\n",
              "  <div id=\"df-36840c75-d65b-44d8-b67b-70d0883a1fef\">\n",
              "    <div class=\"colab-df-container\">\n",
              "      <div>\n",
              "<style scoped>\n",
              "    .dataframe tbody tr th:only-of-type {\n",
              "        vertical-align: middle;\n",
              "    }\n",
              "\n",
              "    .dataframe tbody tr th {\n",
              "        vertical-align: top;\n",
              "    }\n",
              "\n",
              "    .dataframe thead th {\n",
              "        text-align: right;\n",
              "    }\n",
              "</style>\n",
              "<table border=\"1\" class=\"dataframe\">\n",
              "  <thead>\n",
              "    <tr style=\"text-align: right;\">\n",
              "      <th></th>\n",
              "      <th>Gender</th>\n",
              "      <th>BMI</th>\n",
              "      <th>Calorie intake</th>\n",
              "      <th>Age</th>\n",
              "    </tr>\n",
              "  </thead>\n",
              "  <tbody>\n",
              "    <tr>\n",
              "      <th>0</th>\n",
              "      <td>0</td>\n",
              "      <td>22.0</td>\n",
              "      <td>99</td>\n",
              "      <td>32</td>\n",
              "    </tr>\n",
              "    <tr>\n",
              "      <th>1</th>\n",
              "      <td>0</td>\n",
              "      <td>26.0</td>\n",
              "      <td>91</td>\n",
              "      <td>30</td>\n",
              "    </tr>\n",
              "    <tr>\n",
              "      <th>2</th>\n",
              "      <td>1</td>\n",
              "      <td>23.5</td>\n",
              "      <td>147</td>\n",
              "      <td>26</td>\n",
              "    </tr>\n",
              "    <tr>\n",
              "      <th>3</th>\n",
              "      <td>1</td>\n",
              "      <td>23.5</td>\n",
              "      <td>145</td>\n",
              "      <td>22</td>\n",
              "    </tr>\n",
              "    <tr>\n",
              "      <th>4</th>\n",
              "      <td>1</td>\n",
              "      <td>21.0</td>\n",
              "      <td>146</td>\n",
              "      <td>29</td>\n",
              "    </tr>\n",
              "    <tr>\n",
              "      <th>...</th>\n",
              "      <td>...</td>\n",
              "      <td>...</td>\n",
              "      <td>...</td>\n",
              "      <td>...</td>\n",
              "    </tr>\n",
              "    <tr>\n",
              "      <th>61</th>\n",
              "      <td>0</td>\n",
              "      <td>22.1</td>\n",
              "      <td>90</td>\n",
              "      <td>31</td>\n",
              "    </tr>\n",
              "    <tr>\n",
              "      <th>62</th>\n",
              "      <td>0</td>\n",
              "      <td>20.8</td>\n",
              "      <td>90</td>\n",
              "      <td>32</td>\n",
              "    </tr>\n",
              "    <tr>\n",
              "      <th>63</th>\n",
              "      <td>0</td>\n",
              "      <td>22.0</td>\n",
              "      <td>187</td>\n",
              "      <td>26</td>\n",
              "    </tr>\n",
              "    <tr>\n",
              "      <th>64</th>\n",
              "      <td>0</td>\n",
              "      <td>21.0</td>\n",
              "      <td>187</td>\n",
              "      <td>27</td>\n",
              "    </tr>\n",
              "    <tr>\n",
              "      <th>65</th>\n",
              "      <td>0</td>\n",
              "      <td>20.0</td>\n",
              "      <td>187</td>\n",
              "      <td>29</td>\n",
              "    </tr>\n",
              "  </tbody>\n",
              "</table>\n",
              "<p>66 rows × 4 columns</p>\n",
              "</div>\n",
              "      <button class=\"colab-df-convert\" onclick=\"convertToInteractive('df-36840c75-d65b-44d8-b67b-70d0883a1fef')\"\n",
              "              title=\"Convert this dataframe to an interactive table.\"\n",
              "              style=\"display:none;\">\n",
              "        \n",
              "  <svg xmlns=\"http://www.w3.org/2000/svg\" height=\"24px\"viewBox=\"0 0 24 24\"\n",
              "       width=\"24px\">\n",
              "    <path d=\"M0 0h24v24H0V0z\" fill=\"none\"/>\n",
              "    <path d=\"M18.56 5.44l.94 2.06.94-2.06 2.06-.94-2.06-.94-.94-2.06-.94 2.06-2.06.94zm-11 1L8.5 8.5l.94-2.06 2.06-.94-2.06-.94L8.5 2.5l-.94 2.06-2.06.94zm10 10l.94 2.06.94-2.06 2.06-.94-2.06-.94-.94-2.06-.94 2.06-2.06.94z\"/><path d=\"M17.41 7.96l-1.37-1.37c-.4-.4-.92-.59-1.43-.59-.52 0-1.04.2-1.43.59L10.3 9.45l-7.72 7.72c-.78.78-.78 2.05 0 2.83L4 21.41c.39.39.9.59 1.41.59.51 0 1.02-.2 1.41-.59l7.78-7.78 2.81-2.81c.8-.78.8-2.07 0-2.86zM5.41 20L4 18.59l7.72-7.72 1.47 1.35L5.41 20z\"/>\n",
              "  </svg>\n",
              "      </button>\n",
              "      \n",
              "  <style>\n",
              "    .colab-df-container {\n",
              "      display:flex;\n",
              "      flex-wrap:wrap;\n",
              "      gap: 12px;\n",
              "    }\n",
              "\n",
              "    .colab-df-convert {\n",
              "      background-color: #E8F0FE;\n",
              "      border: none;\n",
              "      border-radius: 50%;\n",
              "      cursor: pointer;\n",
              "      display: none;\n",
              "      fill: #1967D2;\n",
              "      height: 32px;\n",
              "      padding: 0 0 0 0;\n",
              "      width: 32px;\n",
              "    }\n",
              "\n",
              "    .colab-df-convert:hover {\n",
              "      background-color: #E2EBFA;\n",
              "      box-shadow: 0px 1px 2px rgba(60, 64, 67, 0.3), 0px 1px 3px 1px rgba(60, 64, 67, 0.15);\n",
              "      fill: #174EA6;\n",
              "    }\n",
              "\n",
              "    [theme=dark] .colab-df-convert {\n",
              "      background-color: #3B4455;\n",
              "      fill: #D2E3FC;\n",
              "    }\n",
              "\n",
              "    [theme=dark] .colab-df-convert:hover {\n",
              "      background-color: #434B5C;\n",
              "      box-shadow: 0px 1px 3px 1px rgba(0, 0, 0, 0.15);\n",
              "      filter: drop-shadow(0px 1px 2px rgba(0, 0, 0, 0.3));\n",
              "      fill: #FFFFFF;\n",
              "    }\n",
              "  </style>\n",
              "\n",
              "      <script>\n",
              "        const buttonEl =\n",
              "          document.querySelector('#df-36840c75-d65b-44d8-b67b-70d0883a1fef button.colab-df-convert');\n",
              "        buttonEl.style.display =\n",
              "          google.colab.kernel.accessAllowed ? 'block' : 'none';\n",
              "\n",
              "        async function convertToInteractive(key) {\n",
              "          const element = document.querySelector('#df-36840c75-d65b-44d8-b67b-70d0883a1fef');\n",
              "          const dataTable =\n",
              "            await google.colab.kernel.invokeFunction('convertToInteractive',\n",
              "                                                     [key], {});\n",
              "          if (!dataTable) return;\n",
              "\n",
              "          const docLinkHtml = 'Like what you see? Visit the ' +\n",
              "            '<a target=\"_blank\" href=https://colab.research.google.com/notebooks/data_table.ipynb>data table notebook</a>'\n",
              "            + ' to learn more about interactive tables.';\n",
              "          element.innerHTML = '';\n",
              "          dataTable['output_type'] = 'display_data';\n",
              "          await google.colab.output.renderOutput(dataTable, element);\n",
              "          const docLink = document.createElement('div');\n",
              "          docLink.innerHTML = docLinkHtml;\n",
              "          element.appendChild(docLink);\n",
              "        }\n",
              "      </script>\n",
              "    </div>\n",
              "  </div>\n",
              "  "
            ]
          },
          "metadata": {},
          "execution_count": 59
        }
      ],
      "source": [
        "le = LabelEncoder()\n",
        "X['Gender'] = le.fit_transform(X['Gender'])\n",
        "X"
      ]
    },
    {
      "cell_type": "code",
      "source": [
        "X_train, X_test, y_train, y_test = train_test_split(X,\n",
        "                                                    y,\n",
        "                                                    test_size=0.2, random_state=42)\n",
        "\n",
        "\n",
        "X_train.values.tolist()\n"
      ],
      "metadata": {
        "colab": {
          "base_uri": "https://localhost:8080/"
        },
        "id": "ClX-x1Zgm7eb",
        "outputId": "7eb9b58c-6c40-4cf4-e4d4-0bb051d73a03"
      },
      "execution_count": null,
      "outputs": [
        {
          "output_type": "execute_result",
          "data": {
            "text/plain": [
              "[[1.0, 26.8, 69.0, 28.0],\n",
              " [1.0, 23.1, 100.0, 35.0],\n",
              " [1.0, 23.5, 145.0, 22.0],\n",
              " [1.0, 25.0, 97.0, 44.0],\n",
              " [0.0, 21.6, 162.0, 29.0],\n",
              " [0.0, 25.0, 132.0, 28.0],\n",
              " [0.0, 24.0, 43.0, 27.0],\n",
              " [0.0, 22.5, 120.0, 30.0],\n",
              " [1.0, 21.0, 146.0, 29.0],\n",
              " [0.0, 21.0, 60.0, 26.0],\n",
              " [1.0, 26.8, 69.0, 28.0],\n",
              " [1.0, 23.9, 140.0, 27.0],\n",
              " [1.0, 26.0, 128.0, 37.0],\n",
              " [1.0, 26.0, 180.0, 37.0],\n",
              " [1.0, 24.0, 182.0, 32.0],\n",
              " [1.0, 25.8, 156.0, 40.0],\n",
              " [0.0, 24.9, 127.0, 35.0],\n",
              " [1.0, 26.1, 102.0, 35.0],\n",
              " [0.0, 21.0, 187.0, 27.0],\n",
              " [1.0, 22.5, 110.0, 28.0],\n",
              " [1.0, 24.6, 78.0, 29.0],\n",
              " [1.0, 24.6, 78.0, 29.0],\n",
              " [1.0, 25.5, 80.0, 30.0],\n",
              " [0.0, 24.0, 60.0, 24.0],\n",
              " [1.0, 23.1, 100.0, 35.0],\n",
              " [0.0, 25.0, 140.0, 33.0],\n",
              " [0.0, 22.1, 90.0, 31.0],\n",
              " [0.0, 23.0, 66.0, 22.0],\n",
              " [1.0, 23.7, 53.0, 32.0],\n",
              " [0.0, 22.5, 120.0, 30.0],\n",
              " [0.0, 21.6, 162.0, 29.0],\n",
              " [1.0, 24.5, 130.0, 32.0],\n",
              " [0.0, 26.0, 91.0, 30.0],\n",
              " [0.0, 25.4, 116.0, 28.0],\n",
              " [1.0, 23.5, 147.0, 26.0],\n",
              " [1.0, 27.2, 140.0, 31.0],\n",
              " [1.0, 22.0, 52.0, 34.0],\n",
              " [1.0, 27.0, 70.0, 29.0],\n",
              " [1.0, 25.8, 156.0, 40.0],\n",
              " [0.0, 20.3, 120.0, 27.0],\n",
              " [1.0, 25.0, 143.0, 37.0],\n",
              " [0.0, 24.5, 132.0, 28.0],\n",
              " [0.0, 21.1, 110.0, 28.0],\n",
              " [1.0, 28.1, 97.0, 45.0],\n",
              " [1.0, 27.4, 129.0, 37.0],\n",
              " [1.0, 23.7, 54.0, 33.0],\n",
              " [0.0, 25.4, 116.0, 28.0],\n",
              " [1.0, 25.1, 179.0, 34.0],\n",
              " [0.0, 27.0, 50.0, 23.0],\n",
              " [1.0, 26.1, 102.0, 35.0],\n",
              " [0.0, 24.8, 160.0, 30.0],\n",
              " [1.0, 25.8, 156.0, 40.0]]"
            ]
          },
          "metadata": {},
          "execution_count": 60
        }
      ]
    },
    {
      "cell_type": "code",
      "source": [
        "scaler = StandardScaler()\n",
        "X_train = scaler.fit_transform(X_train)\n",
        "X_train"
      ],
      "metadata": {
        "colab": {
          "base_uri": "https://localhost:8080/"
        },
        "id": "BuGIlol5qVqH",
        "outputId": "328bbeeb-bebe-41b3-d999-92b4c24c9ed5"
      },
      "execution_count": null,
      "outputs": [
        {
          "output_type": "execute_result",
          "data": {
            "text/plain": [
              "array([[ 0.82305489,  1.28809775, -1.15891667, -0.63061087],\n",
              "       [ 0.82305489, -0.65262275, -0.36191425,  0.74389426],\n",
              "       [ 0.82305489, -0.44281512,  0.79502475, -1.80875814],\n",
              "       [ 0.82305489,  0.34396346, -0.43904352,  2.51111516],\n",
              "       [-1.21498579, -1.43940133,  1.23209059, -0.434253  ],\n",
              "       [-1.21498579,  0.34396346,  0.46079792, -0.63061087],\n",
              "       [-1.21498579, -0.1805556 , -1.82737031, -0.82696875],\n",
              "       [-1.21498579, -0.96733418,  0.15228086, -0.23789512],\n",
              "       [ 0.82305489, -1.75411276,  0.8207345 , -0.434253  ],\n",
              "       [-1.21498579, -1.75411276, -1.39030447, -1.02332663],\n",
              "       [ 0.82305489,  1.28809775, -1.15891667, -0.63061087],\n",
              "       [ 0.82305489, -0.2330075 ,  0.66647597, -0.82696875],\n",
              "       [ 0.82305489,  0.86848251,  0.3579589 ,  1.13661002],\n",
              "       [ 0.82305489,  0.86848251,  1.69486619,  1.13661002],\n",
              "       [ 0.82305489, -0.1805556 ,  1.7462857 ,  0.15482063],\n",
              "       [ 0.82305489,  0.7635787 ,  1.07783206,  1.72568365],\n",
              "       [-1.21498579,  0.29151155,  0.33224915,  0.74389426],\n",
              "       [ 0.82305489,  0.92093442, -0.31049474,  0.74389426],\n",
              "       [-1.21498579, -1.75411276,  1.87483448, -0.82696875],\n",
              "       [ 0.82305489, -0.96733418, -0.1048167 , -0.63061087],\n",
              "       [ 0.82305489,  0.13415583, -0.92752887, -0.434253  ],\n",
              "       [ 0.82305489,  0.13415583, -0.92752887, -0.434253  ],\n",
              "       [ 0.82305489,  0.60622298, -0.87610936, -0.23789512],\n",
              "       [-1.21498579, -0.1805556 , -1.39030447, -1.41604238],\n",
              "       [ 0.82305489, -0.65262275, -0.36191425,  0.74389426],\n",
              "       [-1.21498579,  0.34396346,  0.66647597,  0.35117851],\n",
              "       [-1.21498579, -1.1771418 , -0.6190118 , -0.04153724],\n",
              "       [-1.21498579, -0.70507465, -1.23604594, -1.80875814],\n",
              "       [ 0.82305489, -0.33791131, -1.57027276,  0.15482063],\n",
              "       [-1.21498579, -0.96733418,  0.15228086, -0.23789512],\n",
              "       [-1.21498579, -1.43940133,  1.23209059, -0.434253  ],\n",
              "       [ 0.82305489,  0.08170393,  0.40937841,  0.15482063],\n",
              "       [-1.21498579,  0.86848251, -0.59330205, -0.23789512],\n",
              "       [-1.21498579,  0.55377108,  0.04944184, -0.63061087],\n",
              "       [ 0.82305489, -0.44281512,  0.84644426, -1.02332663],\n",
              "       [ 0.82305489,  1.49790538,  0.66647597, -0.04153724],\n",
              "       [ 0.82305489, -1.22959371, -1.59598251,  0.54753639],\n",
              "       [ 0.82305489,  1.39300156, -1.13320691, -0.434253  ],\n",
              "       [ 0.82305489,  0.7635787 ,  1.07783206,  1.72568365],\n",
              "       [-1.21498579, -2.1212761 ,  0.15228086, -0.82696875],\n",
              "       [ 0.82305489,  0.34396346,  0.74360524,  1.13661002],\n",
              "       [-1.21498579,  0.08170393,  0.46079792, -0.63061087],\n",
              "       [-1.21498579, -1.70166085, -0.1048167 , -0.63061087],\n",
              "       [ 0.82305489,  1.96997252, -0.43904352,  2.70747303],\n",
              "       [ 0.82305489,  1.60280919,  0.38366866,  1.13661002],\n",
              "       [ 0.82305489, -0.33791131, -1.544563  ,  0.35117851],\n",
              "       [-1.21498579,  0.55377108,  0.04944184, -0.63061087],\n",
              "       [ 0.82305489,  0.39641536,  1.66915643,  0.54753639],\n",
              "       [-1.21498579,  1.39300156, -1.64740202, -1.61240026],\n",
              "       [ 0.82305489,  0.92093442, -0.31049474,  0.74389426],\n",
              "       [-1.21498579,  0.23905965,  1.18067108, -0.23789512],\n",
              "       [ 0.82305489,  0.7635787 ,  1.07783206,  1.72568365]])"
            ]
          },
          "metadata": {},
          "execution_count": 61
        }
      ]
    },
    {
      "cell_type": "code",
      "execution_count": null,
      "metadata": {
        "colab": {
          "base_uri": "https://localhost:8080/",
          "height": 74
        },
        "id": "yt07TY9ZIgUa",
        "outputId": "9b31ab3c-230d-4d89-90e8-d8ac7b139e98"
      },
      "outputs": [
        {
          "output_type": "execute_result",
          "data": {
            "text/plain": [
              "MLPClassifier(hidden_layer_sizes=(64, 32), max_iter=1000, random_state=42)"
            ],
            "text/html": [
              "<style>#sk-container-id-8 {color: black;background-color: white;}#sk-container-id-8 pre{padding: 0;}#sk-container-id-8 div.sk-toggleable {background-color: white;}#sk-container-id-8 label.sk-toggleable__label {cursor: pointer;display: block;width: 100%;margin-bottom: 0;padding: 0.3em;box-sizing: border-box;text-align: center;}#sk-container-id-8 label.sk-toggleable__label-arrow:before {content: \"▸\";float: left;margin-right: 0.25em;color: #696969;}#sk-container-id-8 label.sk-toggleable__label-arrow:hover:before {color: black;}#sk-container-id-8 div.sk-estimator:hover label.sk-toggleable__label-arrow:before {color: black;}#sk-container-id-8 div.sk-toggleable__content {max-height: 0;max-width: 0;overflow: hidden;text-align: left;background-color: #f0f8ff;}#sk-container-id-8 div.sk-toggleable__content pre {margin: 0.2em;color: black;border-radius: 0.25em;background-color: #f0f8ff;}#sk-container-id-8 input.sk-toggleable__control:checked~div.sk-toggleable__content {max-height: 200px;max-width: 100%;overflow: auto;}#sk-container-id-8 input.sk-toggleable__control:checked~label.sk-toggleable__label-arrow:before {content: \"▾\";}#sk-container-id-8 div.sk-estimator input.sk-toggleable__control:checked~label.sk-toggleable__label {background-color: #d4ebff;}#sk-container-id-8 div.sk-label input.sk-toggleable__control:checked~label.sk-toggleable__label {background-color: #d4ebff;}#sk-container-id-8 input.sk-hidden--visually {border: 0;clip: rect(1px 1px 1px 1px);clip: rect(1px, 1px, 1px, 1px);height: 1px;margin: -1px;overflow: hidden;padding: 0;position: absolute;width: 1px;}#sk-container-id-8 div.sk-estimator {font-family: monospace;background-color: #f0f8ff;border: 1px dotted black;border-radius: 0.25em;box-sizing: border-box;margin-bottom: 0.5em;}#sk-container-id-8 div.sk-estimator:hover {background-color: #d4ebff;}#sk-container-id-8 div.sk-parallel-item::after {content: \"\";width: 100%;border-bottom: 1px solid gray;flex-grow: 1;}#sk-container-id-8 div.sk-label:hover label.sk-toggleable__label {background-color: #d4ebff;}#sk-container-id-8 div.sk-serial::before {content: \"\";position: absolute;border-left: 1px solid gray;box-sizing: border-box;top: 0;bottom: 0;left: 50%;z-index: 0;}#sk-container-id-8 div.sk-serial {display: flex;flex-direction: column;align-items: center;background-color: white;padding-right: 0.2em;padding-left: 0.2em;position: relative;}#sk-container-id-8 div.sk-item {position: relative;z-index: 1;}#sk-container-id-8 div.sk-parallel {display: flex;align-items: stretch;justify-content: center;background-color: white;position: relative;}#sk-container-id-8 div.sk-item::before, #sk-container-id-8 div.sk-parallel-item::before {content: \"\";position: absolute;border-left: 1px solid gray;box-sizing: border-box;top: 0;bottom: 0;left: 50%;z-index: -1;}#sk-container-id-8 div.sk-parallel-item {display: flex;flex-direction: column;z-index: 1;position: relative;background-color: white;}#sk-container-id-8 div.sk-parallel-item:first-child::after {align-self: flex-end;width: 50%;}#sk-container-id-8 div.sk-parallel-item:last-child::after {align-self: flex-start;width: 50%;}#sk-container-id-8 div.sk-parallel-item:only-child::after {width: 0;}#sk-container-id-8 div.sk-dashed-wrapped {border: 1px dashed gray;margin: 0 0.4em 0.5em 0.4em;box-sizing: border-box;padding-bottom: 0.4em;background-color: white;}#sk-container-id-8 div.sk-label label {font-family: monospace;font-weight: bold;display: inline-block;line-height: 1.2em;}#sk-container-id-8 div.sk-label-container {text-align: center;}#sk-container-id-8 div.sk-container {/* jupyter's `normalize.less` sets `[hidden] { display: none; }` but bootstrap.min.css set `[hidden] { display: none !important; }` so we also need the `!important` here to be able to override the default hidden behavior on the sphinx rendered scikit-learn.org. See: https://github.com/scikit-learn/scikit-learn/issues/21755 */display: inline-block !important;position: relative;}#sk-container-id-8 div.sk-text-repr-fallback {display: none;}</style><div id=\"sk-container-id-8\" class=\"sk-top-container\"><div class=\"sk-text-repr-fallback\"><pre>MLPClassifier(hidden_layer_sizes=(64, 32), max_iter=1000, random_state=42)</pre><b>In a Jupyter environment, please rerun this cell to show the HTML representation or trust the notebook. <br />On GitHub, the HTML representation is unable to render, please try loading this page with nbviewer.org.</b></div><div class=\"sk-container\" hidden><div class=\"sk-item\"><div class=\"sk-estimator sk-toggleable\"><input class=\"sk-toggleable__control sk-hidden--visually\" id=\"sk-estimator-id-8\" type=\"checkbox\" checked><label for=\"sk-estimator-id-8\" class=\"sk-toggleable__label sk-toggleable__label-arrow\">MLPClassifier</label><div class=\"sk-toggleable__content\"><pre>MLPClassifier(hidden_layer_sizes=(64, 32), max_iter=1000, random_state=42)</pre></div></div></div></div></div>"
            ]
          },
          "metadata": {},
          "execution_count": 62
        }
      ],
      "source": [
        "from sklearn.model_selection import train_test_split\n",
        "from sklearn.preprocessing import StandardScaler\n",
        "from sklearn.neural_network import MLPClassifier\n",
        "from sklearn.multioutput import MultiOutputClassifier\n",
        "\n",
        "# Split the data into training and test sets\n",
        "X_train, X_test, y_train, y_test = train_test_split(X,\n",
        "                                                    y,\n",
        "                                                    test_size=0.2, random_state=42)\n",
        "\n",
        "# Scale the features\n",
        "scaler = StandardScaler()\n",
        "X_train = scaler.fit_transform(X_train)\n",
        "X_test = scaler.transform(X_test)\n",
        "\n",
        "\n",
        "\n",
        "# Train the MLP classification model for predicting both exercise and sets\n",
        "model = MLPClassifier(hidden_layer_sizes=(64, 32), max_iter=1000, random_state=42)\n",
        "\n",
        "\n",
        "model.fit(X_train,y_train[\"Exercise\"])\n",
        "# model.fit(X_train,y_train[\"Set\"])\n",
        "\n",
        "# multi_model = MultiOutputClassifier(model)\n",
        "# multi_model.fit(X_train, y_train)\n",
        "\n",
        "\n"
      ]
    },
    {
      "cell_type": "code",
      "source": [
        "from sklearn.model_selection import train_test_split\n",
        "from sklearn.preprocessing import StandardScaler\n",
        "from sklearn.neural_network import MLPClassifier\n",
        "from sklearn.multioutput import MultiOutputClassifier\n",
        "\n",
        "# Split the data into training and test sets\n",
        "X_train, X_test, y_train, y_test = train_test_split(X,\n",
        "                                                    y,\n",
        "                                                    test_size=0.2, random_state=42)\n",
        "\n",
        "# Scale the features\n",
        "scaler = StandardScaler()\n",
        "X_train = scaler.fit_transform(X_train)\n",
        "X_test = scaler.transform(X_test)\n",
        "\n",
        "\n",
        "\n",
        "# Train the MLP classification model for predicting both exercise and sets\n",
        "modelSet = MLPClassifier(hidden_layer_sizes=(64, 32), max_iter=1000, random_state=42)\n",
        "\n",
        "\n",
        "# model.fit(X_train,y_train[\"Exercise\"])\n",
        "modelSet.fit(X_train,y_train[\"Set\"])\n",
        "\n",
        "# multi_model = MultiOutputClassifier(model)\n",
        "# multi_model.fit(X_train, y_train)\n"
      ],
      "metadata": {
        "colab": {
          "base_uri": "https://localhost:8080/",
          "height": 74
        },
        "id": "AhKWcAsWRiYP",
        "outputId": "8bcf48df-51ba-4f50-b48b-bd3bf446a904"
      },
      "execution_count": null,
      "outputs": [
        {
          "output_type": "execute_result",
          "data": {
            "text/plain": [
              "MLPClassifier(hidden_layer_sizes=(64, 32), max_iter=1000, random_state=42)"
            ],
            "text/html": [
              "<style>#sk-container-id-9 {color: black;background-color: white;}#sk-container-id-9 pre{padding: 0;}#sk-container-id-9 div.sk-toggleable {background-color: white;}#sk-container-id-9 label.sk-toggleable__label {cursor: pointer;display: block;width: 100%;margin-bottom: 0;padding: 0.3em;box-sizing: border-box;text-align: center;}#sk-container-id-9 label.sk-toggleable__label-arrow:before {content: \"▸\";float: left;margin-right: 0.25em;color: #696969;}#sk-container-id-9 label.sk-toggleable__label-arrow:hover:before {color: black;}#sk-container-id-9 div.sk-estimator:hover label.sk-toggleable__label-arrow:before {color: black;}#sk-container-id-9 div.sk-toggleable__content {max-height: 0;max-width: 0;overflow: hidden;text-align: left;background-color: #f0f8ff;}#sk-container-id-9 div.sk-toggleable__content pre {margin: 0.2em;color: black;border-radius: 0.25em;background-color: #f0f8ff;}#sk-container-id-9 input.sk-toggleable__control:checked~div.sk-toggleable__content {max-height: 200px;max-width: 100%;overflow: auto;}#sk-container-id-9 input.sk-toggleable__control:checked~label.sk-toggleable__label-arrow:before {content: \"▾\";}#sk-container-id-9 div.sk-estimator input.sk-toggleable__control:checked~label.sk-toggleable__label {background-color: #d4ebff;}#sk-container-id-9 div.sk-label input.sk-toggleable__control:checked~label.sk-toggleable__label {background-color: #d4ebff;}#sk-container-id-9 input.sk-hidden--visually {border: 0;clip: rect(1px 1px 1px 1px);clip: rect(1px, 1px, 1px, 1px);height: 1px;margin: -1px;overflow: hidden;padding: 0;position: absolute;width: 1px;}#sk-container-id-9 div.sk-estimator {font-family: monospace;background-color: #f0f8ff;border: 1px dotted black;border-radius: 0.25em;box-sizing: border-box;margin-bottom: 0.5em;}#sk-container-id-9 div.sk-estimator:hover {background-color: #d4ebff;}#sk-container-id-9 div.sk-parallel-item::after {content: \"\";width: 100%;border-bottom: 1px solid gray;flex-grow: 1;}#sk-container-id-9 div.sk-label:hover label.sk-toggleable__label {background-color: #d4ebff;}#sk-container-id-9 div.sk-serial::before {content: \"\";position: absolute;border-left: 1px solid gray;box-sizing: border-box;top: 0;bottom: 0;left: 50%;z-index: 0;}#sk-container-id-9 div.sk-serial {display: flex;flex-direction: column;align-items: center;background-color: white;padding-right: 0.2em;padding-left: 0.2em;position: relative;}#sk-container-id-9 div.sk-item {position: relative;z-index: 1;}#sk-container-id-9 div.sk-parallel {display: flex;align-items: stretch;justify-content: center;background-color: white;position: relative;}#sk-container-id-9 div.sk-item::before, #sk-container-id-9 div.sk-parallel-item::before {content: \"\";position: absolute;border-left: 1px solid gray;box-sizing: border-box;top: 0;bottom: 0;left: 50%;z-index: -1;}#sk-container-id-9 div.sk-parallel-item {display: flex;flex-direction: column;z-index: 1;position: relative;background-color: white;}#sk-container-id-9 div.sk-parallel-item:first-child::after {align-self: flex-end;width: 50%;}#sk-container-id-9 div.sk-parallel-item:last-child::after {align-self: flex-start;width: 50%;}#sk-container-id-9 div.sk-parallel-item:only-child::after {width: 0;}#sk-container-id-9 div.sk-dashed-wrapped {border: 1px dashed gray;margin: 0 0.4em 0.5em 0.4em;box-sizing: border-box;padding-bottom: 0.4em;background-color: white;}#sk-container-id-9 div.sk-label label {font-family: monospace;font-weight: bold;display: inline-block;line-height: 1.2em;}#sk-container-id-9 div.sk-label-container {text-align: center;}#sk-container-id-9 div.sk-container {/* jupyter's `normalize.less` sets `[hidden] { display: none; }` but bootstrap.min.css set `[hidden] { display: none !important; }` so we also need the `!important` here to be able to override the default hidden behavior on the sphinx rendered scikit-learn.org. See: https://github.com/scikit-learn/scikit-learn/issues/21755 */display: inline-block !important;position: relative;}#sk-container-id-9 div.sk-text-repr-fallback {display: none;}</style><div id=\"sk-container-id-9\" class=\"sk-top-container\"><div class=\"sk-text-repr-fallback\"><pre>MLPClassifier(hidden_layer_sizes=(64, 32), max_iter=1000, random_state=42)</pre><b>In a Jupyter environment, please rerun this cell to show the HTML representation or trust the notebook. <br />On GitHub, the HTML representation is unable to render, please try loading this page with nbviewer.org.</b></div><div class=\"sk-container\" hidden><div class=\"sk-item\"><div class=\"sk-estimator sk-toggleable\"><input class=\"sk-toggleable__control sk-hidden--visually\" id=\"sk-estimator-id-9\" type=\"checkbox\" checked><label for=\"sk-estimator-id-9\" class=\"sk-toggleable__label sk-toggleable__label-arrow\">MLPClassifier</label><div class=\"sk-toggleable__content\"><pre>MLPClassifier(hidden_layer_sizes=(64, 32), max_iter=1000, random_state=42)</pre></div></div></div></div></div>"
            ]
          },
          "metadata": {},
          "execution_count": 63
        }
      ]
    },
    {
      "cell_type": "code",
      "source": [
        "print(X_train)"
      ],
      "metadata": {
        "colab": {
          "base_uri": "https://localhost:8080/"
        },
        "id": "GAuDBWZJmsXW",
        "outputId": "55031288-722c-4154-a161-10b891564421"
      },
      "execution_count": null,
      "outputs": [
        {
          "output_type": "stream",
          "name": "stdout",
          "text": [
            "[[ 0.82305489  1.28809775 -1.15891667 -0.63061087]\n",
            " [ 0.82305489 -0.65262275 -0.36191425  0.74389426]\n",
            " [ 0.82305489 -0.44281512  0.79502475 -1.80875814]\n",
            " [ 0.82305489  0.34396346 -0.43904352  2.51111516]\n",
            " [-1.21498579 -1.43940133  1.23209059 -0.434253  ]\n",
            " [-1.21498579  0.34396346  0.46079792 -0.63061087]\n",
            " [-1.21498579 -0.1805556  -1.82737031 -0.82696875]\n",
            " [-1.21498579 -0.96733418  0.15228086 -0.23789512]\n",
            " [ 0.82305489 -1.75411276  0.8207345  -0.434253  ]\n",
            " [-1.21498579 -1.75411276 -1.39030447 -1.02332663]\n",
            " [ 0.82305489  1.28809775 -1.15891667 -0.63061087]\n",
            " [ 0.82305489 -0.2330075   0.66647597 -0.82696875]\n",
            " [ 0.82305489  0.86848251  0.3579589   1.13661002]\n",
            " [ 0.82305489  0.86848251  1.69486619  1.13661002]\n",
            " [ 0.82305489 -0.1805556   1.7462857   0.15482063]\n",
            " [ 0.82305489  0.7635787   1.07783206  1.72568365]\n",
            " [-1.21498579  0.29151155  0.33224915  0.74389426]\n",
            " [ 0.82305489  0.92093442 -0.31049474  0.74389426]\n",
            " [-1.21498579 -1.75411276  1.87483448 -0.82696875]\n",
            " [ 0.82305489 -0.96733418 -0.1048167  -0.63061087]\n",
            " [ 0.82305489  0.13415583 -0.92752887 -0.434253  ]\n",
            " [ 0.82305489  0.13415583 -0.92752887 -0.434253  ]\n",
            " [ 0.82305489  0.60622298 -0.87610936 -0.23789512]\n",
            " [-1.21498579 -0.1805556  -1.39030447 -1.41604238]\n",
            " [ 0.82305489 -0.65262275 -0.36191425  0.74389426]\n",
            " [-1.21498579  0.34396346  0.66647597  0.35117851]\n",
            " [-1.21498579 -1.1771418  -0.6190118  -0.04153724]\n",
            " [-1.21498579 -0.70507465 -1.23604594 -1.80875814]\n",
            " [ 0.82305489 -0.33791131 -1.57027276  0.15482063]\n",
            " [-1.21498579 -0.96733418  0.15228086 -0.23789512]\n",
            " [-1.21498579 -1.43940133  1.23209059 -0.434253  ]\n",
            " [ 0.82305489  0.08170393  0.40937841  0.15482063]\n",
            " [-1.21498579  0.86848251 -0.59330205 -0.23789512]\n",
            " [-1.21498579  0.55377108  0.04944184 -0.63061087]\n",
            " [ 0.82305489 -0.44281512  0.84644426 -1.02332663]\n",
            " [ 0.82305489  1.49790538  0.66647597 -0.04153724]\n",
            " [ 0.82305489 -1.22959371 -1.59598251  0.54753639]\n",
            " [ 0.82305489  1.39300156 -1.13320691 -0.434253  ]\n",
            " [ 0.82305489  0.7635787   1.07783206  1.72568365]\n",
            " [-1.21498579 -2.1212761   0.15228086 -0.82696875]\n",
            " [ 0.82305489  0.34396346  0.74360524  1.13661002]\n",
            " [-1.21498579  0.08170393  0.46079792 -0.63061087]\n",
            " [-1.21498579 -1.70166085 -0.1048167  -0.63061087]\n",
            " [ 0.82305489  1.96997252 -0.43904352  2.70747303]\n",
            " [ 0.82305489  1.60280919  0.38366866  1.13661002]\n",
            " [ 0.82305489 -0.33791131 -1.544563    0.35117851]\n",
            " [-1.21498579  0.55377108  0.04944184 -0.63061087]\n",
            " [ 0.82305489  0.39641536  1.66915643  0.54753639]\n",
            " [-1.21498579  1.39300156 -1.64740202 -1.61240026]\n",
            " [ 0.82305489  0.92093442 -0.31049474  0.74389426]\n",
            " [-1.21498579  0.23905965  1.18067108 -0.23789512]\n",
            " [ 0.82305489  0.7635787   1.07783206  1.72568365]]\n"
          ]
        }
      ]
    },
    {
      "cell_type": "code",
      "execution_count": null,
      "metadata": {
        "colab": {
          "base_uri": "https://localhost:8080/"
        },
        "id": "X4DMIx6dE7tG",
        "outputId": "61ea9915-234d-4481-fb42-47ddbd610231"
      },
      "outputs": [
        {
          "output_type": "stream",
          "name": "stderr",
          "text": [
            "/usr/local/lib/python3.10/dist-packages/sklearn/base.py:439: UserWarning: X does not have valid feature names, but StandardScaler was fitted with feature names\n",
            "  warnings.warn(\n"
          ]
        },
        {
          "output_type": "execute_result",
          "data": {
            "text/plain": [
              "array([27])"
            ]
          },
          "metadata": {},
          "execution_count": 66
        }
      ],
      "source": [
        "pred_val = model.predict(scaler.transform([[1,\t18.5,\t302,30]]))\n",
        "pred_val"
      ]
    },
    {
      "cell_type": "code",
      "execution_count": null,
      "metadata": {
        "colab": {
          "base_uri": "https://localhost:8080/"
        },
        "id": "J2Bzy1fX_-1e",
        "outputId": "1a64ae45-b02b-4cab-b43c-c6feaa5b82ef"
      },
      "outputs": [
        {
          "output_type": "stream",
          "name": "stdout",
          "text": [
            "Looking in indexes: https://pypi.org/simple, https://us-python.pkg.dev/colab-wheels/public/simple/\n",
            "Requirement already satisfied: sklite in /usr/local/lib/python3.10/dist-packages (0.0.2)\n"
          ]
        }
      ],
      "source": [
        "!pip install sklite"
      ]
    },
    {
      "cell_type": "code",
      "execution_count": null,
      "metadata": {
        "id": "AOeY9dWmANuH"
      },
      "outputs": [],
      "source": [
        "from sklite import LazyExport\n",
        "\n",
        "\n",
        "lazy = LazyExport(model)\n",
        "\n",
        "lazy.save('fitness.json')"
      ]
    },
    {
      "cell_type": "code",
      "execution_count": null,
      "metadata": {
        "id": "pzsDQGUW2mrG"
      },
      "outputs": [],
      "source": [
        "from sklite import LazyExport\n",
        "\n",
        "\n",
        "lazy = LazyExport(modelSet)\n",
        "\n",
        "lazy.save('fitnessSet.json')"
      ]
    }
  ],
  "metadata": {
    "colab": {
      "provenance": [],
      "include_colab_link": true
    },
    "kernelspec": {
      "display_name": "Python 3",
      "name": "python3"
    },
    "language_info": {
      "name": "python"
    }
  },
  "nbformat": 4,
  "nbformat_minor": 0
}